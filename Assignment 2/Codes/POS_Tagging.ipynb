{
 "cells": [
  {
   "cell_type": "markdown",
   "metadata": {},
   "source": [
    "## POS Tagger"
   ]
  },
  {
   "cell_type": "code",
   "execution_count": 1,
   "metadata": {},
   "outputs": [],
   "source": [
    "import re\n",
    "import string\n",
    "import pandas as pd\n",
    "from collections import Counter\n",
    "from hazm import sent_tokenize, word_tokenize, Normalizer, POSTagger"
   ]
  },
  {
   "cell_type": "code",
   "execution_count": 2,
   "metadata": {},
   "outputs": [
    {
     "data": {
      "text/html": [
       "<div>\n",
       "<style scoped>\n",
       "    .dataframe tbody tr th:only-of-type {\n",
       "        vertical-align: middle;\n",
       "    }\n",
       "\n",
       "    .dataframe tbody tr th {\n",
       "        vertical-align: top;\n",
       "    }\n",
       "\n",
       "    .dataframe thead th {\n",
       "        text-align: right;\n",
       "    }\n",
       "</style>\n",
       "<table border=\"1\" class=\"dataframe\">\n",
       "  <thead>\n",
       "    <tr style=\"text-align: right;\">\n",
       "      <th></th>\n",
       "      <th>comment</th>\n",
       "    </tr>\n",
       "  </thead>\n",
       "  <tbody>\n",
       "    <tr>\n",
       "      <th>0</th>\n",
       "      <td>نسبت به قیمتش ارزش خرید داره\\nجاداره، طراحیش ق...</td>\n",
       "    </tr>\n",
       "    <tr>\n",
       "      <th>1</th>\n",
       "      <td>چند ماهی میشه که گرفتمش‌. برای برنامه نویسی و ...</td>\n",
       "    </tr>\n",
       "    <tr>\n",
       "      <th>2</th>\n",
       "      <td>پراید ستون جدید</td>\n",
       "    </tr>\n",
       "    <tr>\n",
       "      <th>3</th>\n",
       "      <td>اقا همه چیش خوبه فقط از پایین زیاد حاشیه داره ...</td>\n",
       "    </tr>\n",
       "    <tr>\n",
       "      <th>4</th>\n",
       "      <td>گوسی هو اوی p10 lite سیپیو و دوربین و رمش از ا...</td>\n",
       "    </tr>\n",
       "  </tbody>\n",
       "</table>\n",
       "</div>"
      ],
      "text/plain": [
       "                                             comment\n",
       "0  نسبت به قیمتش ارزش خرید داره\\nجاداره، طراحیش ق...\n",
       "1  چند ماهی میشه که گرفتمش‌. برای برنامه نویسی و ...\n",
       "2                                    پراید ستون جدید\n",
       "3  اقا همه چیش خوبه فقط از پایین زیاد حاشیه داره ...\n",
       "4  گوسی هو اوی p10 lite سیپیو و دوربین و رمش از ا..."
      ]
     },
     "execution_count": 2,
     "metadata": {},
     "output_type": "execute_result"
    }
   ],
   "source": [
    "comments_df = pd.read_csv(r'Datasets\\digikala_comment.csv')\n",
    "comments_df.head()"
   ]
  },
  {
   "cell_type": "markdown",
   "metadata": {},
   "source": [
    "## Pre-Process"
   ]
  },
  {
   "cell_type": "code",
   "execution_count": 3,
   "metadata": {},
   "outputs": [],
   "source": [
    "def remove_emoji(string):\n",
    "    emoji_pattern = re.compile(\"[\"\n",
    "                           u\"\\U0001F600-\\U0001F64F\"  # emoticons\n",
    "                           u\"\\U0001F300-\\U0001F5FF\"  # symbols & pictographs\n",
    "                           u\"\\U0001F680-\\U0001F6FF\"  # transport & map symbols\n",
    "                           u\"\\U0001F1E0-\\U0001F1FF\"  # flags (iOS)\n",
    "                           u\"\\U00002702-\\U000027B0\"\n",
    "                           u\"\\U000024C2-\\U0001F251\"\n",
    "                           \"]+\", flags=re.UNICODE)\n",
    "    return emoji_pattern.sub(r'', string)\n",
    "\n",
    "def preprocess_sentences(comments_df):\n",
    "    # Convert comments into sentences\n",
    "    normalizer = Normalizer()\n",
    "    comments_df['sentences'] = comments_df['comment'].apply(lambda comment: sent_tokenize(comment))\n",
    "    comments_df.drop('comment', axis=1, inplace=True)\n",
    "\n",
    "    # Convert DataFrame into a list of sentences\n",
    "    sentences_list = comments_df['sentences'].tolist()\n",
    "    flat_sentences_list = [sentence for sublist in sentences_list for sentence in sublist]\n",
    "\n",
    "    normalized_sentences = [normalizer.normalize(s) for s in flat_sentences_list]\n",
    "\n",
    "    # Remove Zero-Width Non-Joiners\n",
    "    sentences = [sentence.replace('\\u200c', ' ') for sentence in normalized_sentences]\n",
    "\n",
    "    # Remove English characters from sentences\n",
    "    cleaned_sentences = []\n",
    "    english_pattern = re.compile(r'[a-zA-Z]')\n",
    "    for sentence in sentences:\n",
    "        cleaned_sentence = ' '.join(word for word in word_tokenize(sentence) if not english_pattern.search(word))\n",
    "        cleaned_sentences.append(cleaned_sentence)\n",
    "\n",
    "    # Remove punctuations from sentences\n",
    "    punctuations = string.punctuation + '،' + '؟'\n",
    "    cleaned_sentences_no_punc = []\n",
    "    for sentence in cleaned_sentences:\n",
    "        cleaned_sentence = ''.join(char for char in sentence if char not in punctuations)\n",
    "        cleaned_sentences_no_punc.append(cleaned_sentence)\n",
    "\n",
    "    # Remove stop words (Top unigrams are stop words) - stop_words() from hazm reduces ability to predict, only top stop words are removed\n",
    "    # stopwords = stopwords_list()\n",
    "    stopwords = ['و', 'از', 'این', 'که', 'به', 'هم', 'خیلی', 'رو', 'با', 'در', 'برای']\n",
    "    cleaned_sentences_no_stopwords = []\n",
    "    for sentence in cleaned_sentences_no_punc:\n",
    "        cleaned_sentence = ' '.join(word for word in word_tokenize(sentence) if word not in stopwords)\n",
    "        cleaned_sentences_no_stopwords.append(cleaned_sentence)\n",
    "\n",
    "    # Remove emojis\n",
    "    cleaned_sentences_no_emojis = [remove_emoji(sentence) for sentence in cleaned_sentences_no_stopwords]\n",
    "\n",
    "    return cleaned_sentences_no_emojis"
   ]
  },
  {
   "cell_type": "code",
   "execution_count": 4,
   "metadata": {},
   "outputs": [],
   "source": [
    "c = preprocess_sentences(comments_df)"
   ]
  },
  {
   "cell_type": "code",
   "execution_count": 5,
   "metadata": {},
   "outputs": [
    {
     "name": "stdout",
     "output_type": "stream",
     "text": [
      "Number of sententences: 463\n",
      "نسبت قیمتش ارزش خرید داره جاداره طراحیش قشنگه تنها مشکلش بندهای ضعیفش هست باعث میشه استحکام چندانی نداشنه باشه\n",
      "چند ماهی میشه گرفتمش\n",
      "برنامه نویسی کارای گرافیکی ازش استفاده می کنم\n",
      "واقعا هر لحاظ بگین عالیه\n",
      "پراید ستون جدید\n",
      "اقا همه چیش خوبه فقط پایین زیاد حاشیه داره روشن شدن گوشی بیشتر میشه\n",
      "نکته دیگه اینکه خاطر اطرافش یه کوچلو خمیده هست گلس بعد یه مدتی جدا مشیه\n",
      "ولی کل قیمت بهترین گوشی هست همه چی داره دوربین گرفته تا رم سی پی یو گرافیک حسگر های مختلف چیزای دیگه\n",
      "گوسی هو اوی ۱۰ سیپیو دوربین رمش بهتره خودتون میتونین برین تمام مقایسه های ۱۰ گوشیو ببینین\n",
      "چادر سبک زیباییه دوختشم عالیه\n"
     ]
    }
   ],
   "source": [
    "print('Number of sententences:', len(c))\n",
    "for i in range(10):\n",
    "    print(c[i])"
   ]
  },
  {
   "cell_type": "markdown",
   "metadata": {},
   "source": [
    "## POS Tagging"
   ]
  },
  {
   "cell_type": "code",
   "execution_count": 6,
   "metadata": {},
   "outputs": [],
   "source": [
    "def pos_tag_sentences(sentences):\n",
    "    tagger = POSTagger(model='Resources/pos_tagger.model')\n",
    "    pos_tagged_sentences = []\n",
    "    \n",
    "    for sentence in sentences:\n",
    "        words = word_tokenize(sentence)\n",
    "        tagged_words = tagger.tag(words)\n",
    "        pos_tagged_sentences.append(tagged_words)\n",
    "    \n",
    "    return pos_tagged_sentences"
   ]
  },
  {
   "cell_type": "code",
   "execution_count": 7,
   "metadata": {},
   "outputs": [
    {
     "name": "stdout",
     "output_type": "stream",
     "text": [
      "نسبت -> NOUN,EZ\n",
      "قیمتش -> NOUN\n",
      "ارزش -> NOUN,EZ\n",
      "خرید -> NOUN\n",
      "داره -> VERB\n",
      "جاداره -> NOUN,EZ\n",
      "طراحیش -> NOUN\n",
      "قشنگه -> VERB\n",
      "تنها -> ADV\n",
      "مشکلش -> NOUN\n",
      "بندهای -> NOUN,EZ\n",
      "ضعیفش -> ADJ\n",
      "هست -> VERB\n",
      "باعث -> ADJ,EZ\n",
      "میشه -> NOUN\n",
      "استحکام -> NOUN,EZ\n",
      "چندانی -> ADJ\n",
      "نداشنه -> VERB\n",
      "باشه -> VERB\n"
     ]
    }
   ],
   "source": [
    "pos_tagged_sentences = pos_tag_sentences(c)\n",
    "\n",
    "# POS Tagging results for 1st sentence\n",
    "for token, pos_tag in pos_tagged_sentences[0]:\n",
    "    print(f\"{token} -> {pos_tag}\")"
   ]
  },
  {
   "cell_type": "markdown",
   "metadata": {},
   "source": [
    "## Tag Counts"
   ]
  },
  {
   "cell_type": "code",
   "execution_count": 8,
   "metadata": {},
   "outputs": [
    {
     "name": "stdout",
     "output_type": "stream",
     "text": [
      "POS Tag Counts:\n",
      "NOUN,EZ: 1505\n",
      "NOUN: 2048\n",
      "VERB: 1310\n",
      "ADV: 449\n",
      "ADJ: 669\n",
      "ADJ,EZ: 259\n",
      "DET: 100\n",
      "ADP: 147\n",
      "DET,EZ: 23\n",
      "PRON: 218\n",
      "CCONJ: 171\n",
      "NUM: 332\n",
      "SCONJ: 109\n",
      "PUNCT: 30\n",
      "ADV,EZ: 22\n",
      "ADP,EZ: 108\n",
      "NUM,EZ: 5\n",
      "INTJ: 30\n",
      "PRON,EZ: 6\n"
     ]
    }
   ],
   "source": [
    "all_pos_tags = [tag for sentence in pos_tagged_sentences for _, tag in sentence]\n",
    "\n",
    "pos_tag_counts = Counter(all_pos_tags)\n",
    "\n",
    "print(\"POS Tag Counts:\")\n",
    "for tag, count in pos_tag_counts.items():\n",
    "    print(f\"{tag}: {count}\")"
   ]
  },
  {
   "cell_type": "markdown",
   "metadata": {},
   "source": [
    "## Visual Report"
   ]
  },
  {
   "cell_type": "code",
   "execution_count": 9,
   "metadata": {},
   "outputs": [
    {
     "data": {
      "image/png": "[encoded data removed]",
      "text/plain": [
       "<Figure size 1000x600 with 1 Axes>"
      ]
     },
     "metadata": {},
     "output_type": "display_data"
    }
   ],
   "source": [
    "import matplotlib.pyplot as plt\n",
    "\n",
    "tags = list(pos_tag_counts.keys())\n",
    "counts = list(pos_tag_counts.values())\n",
    "sorted_tags, sorted_counts = zip(*sorted(zip(tags, counts), key=lambda x: x[1], reverse=True))\n",
    "\n",
    "plt.figure(figsize=(10, 6))\n",
    "plt.barh(sorted_tags, sorted_counts, color='skyblue')\n",
    "plt.xlabel('Count')\n",
    "plt.ylabel('POS Tag')\n",
    "plt.title('POS Tag Counts')\n",
    "plt.gca().invert_yaxis()\n",
    "plt.show()\n"
   ]
  },
  {
   "cell_type": "markdown",
   "metadata": {},
   "source": [
    "## Top 15 Nouns"
   ]
  },
  {
   "cell_type": "code",
   "execution_count": 10,
   "metadata": {},
   "outputs": [],
   "source": [
    "def extract_and_report_nouns(tagged_sentences, count=15):\n",
    "    nouns = []\n",
    "    for sentence in tagged_sentences:\n",
    "        for word, tag in sentence:\n",
    "            if tag == 'NOUN' or tag == 'NOUN,EZ':\n",
    "                nouns.append(word)\n",
    "\n",
    "    noun_counts = Counter(nouns)\n",
    "\n",
    "    top_nouns = []\n",
    "    top_counts = []\n",
    "    for noun, count in noun_counts.most_common(count):\n",
    "        top_nouns.append(noun)\n",
    "        top_counts.append(count)\n",
    "\n",
    "    return top_nouns, top_counts\n"
   ]
  },
  {
   "cell_type": "code",
   "execution_count": 11,
   "metadata": {},
   "outputs": [
    {
     "name": "stdout",
     "output_type": "stream",
     "text": [
      "Top 15 Most Repeated Nouns:\n",
      "می: 98\n",
      "گوشی: 72\n",
      "کیفیت: 51\n",
      "های: 49\n",
      "استفاده: 41\n",
      "ها: 34\n",
      "قیمت: 33\n",
      "نسبت: 27\n",
      "نظر: 27\n",
      "خرید: 25\n",
      "میشه: 23\n",
      "پیشنهاد: 23\n",
      "دستگاه: 23\n",
      "مدل: 21\n",
      "صدا: 20\n"
     ]
    }
   ],
   "source": [
    "top_nouns, top_counts = extract_and_report_nouns(pos_tagged_sentences)\n",
    "print(\"Top 15 Most Repeated Nouns:\")\n",
    "for noun, count in zip(top_nouns, top_counts):\n",
    "    print(f\"{noun}: {count}\")"
   ]
  },
  {
   "cell_type": "code",
   "execution_count": 12,
   "metadata": {},
   "outputs": [
    {
     "data": {
      "image/png": "[encoded data removed]",
      "text/plain": [
       "<Figure size 1000x600 with 1 Axes>"
      ]
     },
     "metadata": {},
     "output_type": "display_data"
    }
   ],
   "source": [
    "plt.figure(figsize=(10, 6))\n",
    "plt.bar(top_nouns, top_counts, color='skyblue')\n",
    "plt.xlabel('Nouns')\n",
    "plt.ylabel('Count')\n",
    "plt.title('Top 15 Most Repeated Nouns')\n",
    "plt.xticks(rotation=45, ha='right')\n",
    "plt.tight_layout()\n",
    "plt.show()"
   ]
  }
 ],
 "metadata": {
  "kernelspec": {
   "display_name": "Python 3",
   "language": "python",
   "name": "python3"
  },
  "language_info": {
   "codemirror_mode": {
    "name": "ipython",
    "version": 3
   },
   "file_extension": ".py",
   "mimetype": "text/x-python",
   "name": "python",
   "nbconvert_exporter": "python",
   "pygments_lexer": "ipython3",
   "version": "3.10.0"
  }
 },
 "nbformat": 4,
 "nbformat_minor": 2
}
