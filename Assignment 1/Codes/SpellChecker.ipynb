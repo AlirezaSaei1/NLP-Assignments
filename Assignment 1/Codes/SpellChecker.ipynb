{
 "cells": [
  {
   "cell_type": "markdown",
   "metadata": {},
   "source": [
    "## Spell Checker Code\n",
    "- Minimum Edit Distance"
   ]
  },
  {
   "cell_type": "markdown",
   "metadata": {},
   "source": [
    "### Required Libraries"
   ]
  },
  {
   "cell_type": "code",
   "execution_count": 7,
   "metadata": {},
   "outputs": [],
   "source": [
    "import editdistance"
   ]
  },
  {
   "cell_type": "markdown",
   "metadata": {},
   "source": [
    "### Read Vocabulary Dataset"
   ]
  },
  {
   "cell_type": "code",
   "execution_count": 8,
   "metadata": {},
   "outputs": [],
   "source": [
    "with open('Datasets/Vocabulary.txt', 'r', encoding='utf-8') as file:\n",
    "    vocabulary = file.read().splitlines()"
   ]
  },
  {
   "cell_type": "markdown",
   "metadata": {},
   "source": [
    "### Minimum Edit Distance"
   ]
  },
  {
   "cell_type": "code",
   "execution_count": 9,
   "metadata": {},
   "outputs": [
    {
     "name": "stdout",
     "output_type": "stream",
     "text": [
      "The corrected sentence is: this book is good\n"
     ]
    }
   ],
   "source": [
    "def min_edit_distance(word1, word2):\n",
    "    len1, len2 = len(word1), len(word2)\n",
    "    dp = [[0] * (len2 + 1) for _ in range(len1 + 1)]\n",
    "\n",
    "    for i in range(len1 + 1):\n",
    "        dp[i][0] = i\n",
    "    for j in range(len2 + 1):\n",
    "        dp[0][j] = j\n",
    "\n",
    "    for i in range(1, len1 + 1):\n",
    "        for j in range(1, len2 + 1):\n",
    "            if word1[i - 1] == word2[j - 1]:\n",
    "                dp[i][j] = dp[i - 1][j - 1]\n",
    "            else:\n",
    "                dp[i][j] = min(dp[i - 1][j - 1], dp[i][j - 1], dp[i - 1][j]) + 1\n",
    "\n",
    "    return dp[len1][len2]\n",
    "\n",
    "def spell_check_sentence(sentence, vocabulary):\n",
    "    corrected_words = []\n",
    "\n",
    "    for word in sentence.split():\n",
    "        min_distance = float('inf')\n",
    "        closest_word = None\n",
    "\n",
    "        for vocab_word in vocabulary:\n",
    "            distance = min_edit_distance(word, vocab_word)\n",
    "            if distance < min_distance:\n",
    "                min_distance = distance\n",
    "                closest_word = vocab_word\n",
    "\n",
    "        corrected_words.append(closest_word)\n",
    "\n",
    "    return ' '.join(corrected_words)\n",
    "\n",
    "\n",
    "sentence_to_check = 'Thiis boOok is goood'\n",
    "corrected_sentence = spell_check_sentence(sentence_to_check.lower(), vocabulary)\n",
    "print(f\"The corrected sentence is: {corrected_sentence}\")"
   ]
  },
  {
   "cell_type": "markdown",
   "metadata": {},
   "source": [
    "### Levenshtein Distance"
   ]
  },
  {
   "cell_type": "code",
   "execution_count": 10,
   "metadata": {},
   "outputs": [
    {
     "name": "stdout",
     "output_type": "stream",
     "text": [
      "The corrected sentence is: this book is good\n"
     ]
    }
   ],
   "source": [
    "def spell_check_sentence(sentence, vocabulary):\n",
    "    corrected_words = []\n",
    "\n",
    "    for word in sentence.split():\n",
    "        min_distance = float('inf')\n",
    "        closest_word = None\n",
    "\n",
    "        for vocab_word in vocabulary:\n",
    "            distance = editdistance.eval(word, vocab_word)\n",
    "            if distance < min_distance:\n",
    "                min_distance = distance\n",
    "                closest_word = vocab_word\n",
    "\n",
    "        corrected_words.append(closest_word)\n",
    "\n",
    "    return ' '.join(corrected_words)\n",
    "\n",
    "\n",
    "sentence_to_check = 'Thiis boOok is goood'\n",
    "corrected_sentence = spell_check_sentence(sentence_to_check.lower(), vocabulary)\n",
    "print(f\"The corrected sentence is: {corrected_sentence}\")\n"
   ]
  }
 ],
 "metadata": {
  "kernelspec": {
   "display_name": "Python 3",
   "language": "python",
   "name": "python3"
  },
  "language_info": {
   "codemirror_mode": {
    "name": "ipython",
    "version": 3
   },
   "file_extension": ".py",
   "mimetype": "text/x-python",
   "name": "python",
   "nbconvert_exporter": "python",
   "pygments_lexer": "ipython3",
   "version": "3.10.0"
  }
 },
 "nbformat": 4,
 "nbformat_minor": 2
}
